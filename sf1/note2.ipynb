{
    "cells": [
        {
            "cell_type": "code",
            "execution_count": null,
            "metadata": {},
            "outputs": [],
            "source": []
        }
    ],
    "metadata": {
        "kernelspec": {
            "display_name": "python",
            "name": "synapse_pyspark"
        },
        "language_info": {
            "name": "python"
        },
        "save_output": true,
        "synapse_widget": {
            "state": {},
            "version": "0.1"
        }
    },
    "nbformat": 4,
    "nbformat_minor": 2
}
