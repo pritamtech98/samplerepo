{
    "nbformat": 4,
    "nbformat_minor": 2,
    "metadata": {
        "synapse_widget": {
            "version": "0.1",
            "state": {}
        },
        "save_output": true,
        "kernelspec": {
            "name": "synapse_pyspark",
            "display_name": "python"
        },
        "language_info": {
            "name": "python"
        }
    },
    "cells": [
        {
            "cell_type": "code",
            "metadata": {},
            "source": [
                "# Program to generate a random number between 0 and 9\r\n",
                "\r\n",
                "# importing the random module\r\n",
                "import random\r\n",
                "\r\n",
                "print(random.randint(0,9))\r\n",
                ""
            ],
            "outputs": []
        }
    ]
}