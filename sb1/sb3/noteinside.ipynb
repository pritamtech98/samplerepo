{
    "nbformat": 4,
    "nbformat_minor": 2,
    "metadata": {
        "synapse_widget": {
            "version": "0.1",
            "state": {}
        },
        "save_output": true,
        "kernelspec": {
            "name": "synapse_pyspark",
            "display_name": "python"
        },
        "language_info": {
            "name": "python"
        }
    },
    "cells": [
        {
            "cell_type": "code",
            "metadata": {},
            "source": [
                "print(\"hello\")"
            ],
            "outputs": []
        }
    ]
}